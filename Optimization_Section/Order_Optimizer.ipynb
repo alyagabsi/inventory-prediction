{
  "nbformat": 4,
  "nbformat_minor": 0,
  "metadata": {
    "colab": {
      "name": "Optimizer.ipynb",
      "provenance": [],
      "collapsed_sections": [],
      "toc_visible": true,
      "authorship_tag": "ABX9TyMOTOXLjEBharZLVCrrwIwJ",
      "include_colab_link": true
    },
    "kernelspec": {
      "name": "python3",
      "display_name": "Python 3"
    },
    "language_info": {
      "name": "python"
    }
  },
  "cells": [
    {
      "cell_type": "markdown",
      "metadata": {
        "id": "view-in-github",
        "colab_type": "text"
      },
      "source": [
        "<a href=\"https://colab.research.google.com/github/alyagabsi/inventory-prediction/blob/main/Optimization_Section/Order_Optimizer.ipynb\" target=\"_parent\"><img src=\"https://colab.research.google.com/assets/colab-badge.svg\" alt=\"Open In Colab\"/></a>"
      ]
    },
    {
      "cell_type": "markdown",
      "source": [
        "# **Ordering Optimization Problem**\n",
        "_______________\n",
        "\n",
        "Please see the formulation of the problem [here](https://drive.google.com/file/d/1XMsGGo5HXC9JMXMm8wkVrzbxwz5PSyob/view?usp=sharing)."
      ],
      "metadata": {
        "id": "dH9D4RQi5qJl"
      }
    },
    {
      "cell_type": "markdown",
      "source": [
        "## **Setting Dependencies**"
      ],
      "metadata": {
        "id": "mt4CC7y3BpG1"
      }
    },
    {
      "cell_type": "code",
      "execution_count": null,
      "metadata": {
        "id": "W8yyRZNY5G8r"
      },
      "outputs": [],
      "source": [
        "# Importing packages \n",
        "\n",
        "!pip install pulp\n",
        "import pandas as pd \n",
        "import numpy as np\n",
        "from pulp import * "
      ]
    },
    {
      "cell_type": "code",
      "source": [
        "# User input \n",
        "products = ['Apples', 'Oranges', 'Potatoes']\n",
        "units = {'Apples': 'lbs',\n",
        "         'Oranges':'lbs',\n",
        "         'Potatoes': 'lbs'}\n",
        "\n",
        "C = {} # quote per unit\n",
        "I = {} # supplier inventory\n",
        "G = {} # produced in garden\n",
        "CL = {} # carry over leftovers\n",
        "L = {} # allowable leftovers\n",
        "\n",
        "for product in products:\n",
        "  print('Please input the following information for ' + product + ':')\n",
        "  print('')\n",
        "  C[product] = float(input('Supplier quote per ' + units[product]+': '))\n",
        "  print('')\n",
        "  I[product] = float(input('Supplier inventory in ' + units[product]+ ': '))\n",
        "  print('')\n",
        "  G[product] = float(input('Supply of grown ' + product + ' in ' + units[product]+ ': '))\n",
        "  print('')\n",
        "  CL[product] = float(input('Carry over leftovers in '+ units[product] + ': '))\n",
        "  print('')\n",
        "  L[product] = float(input('Allowable leftovers in '+ units[product] + ': '))\n",
        "  print('')\n",
        "\n",
        "# Demand (given by forecasting models) - TBDone\n",
        "\n",
        "D = {'Apples':10,\n",
        "     'Oranges': 10,\n",
        "     'Potatoes': 10}\n",
        "\n"
      ],
      "metadata": {
        "colab": {
          "base_uri": "https://localhost:8080/"
        },
        "id": "tbMXBxUO57H0",
        "outputId": "dafabe1a-f9bf-4c48-afb6-897166bfe42f"
      },
      "execution_count": 38,
      "outputs": [
        {
          "output_type": "stream",
          "name": "stdout",
          "text": [
            "Please input the following information for Apples:\n",
            "\n",
            "Supplier quote per lbs: 10\n",
            "\n",
            "Supplier inventory in lbs: 10\n",
            "\n",
            "Supply of grown Applesin lbs: 10\n",
            "\n",
            "Carry over leftovers in lbs: 10\n",
            "\n",
            "Allowable leftovers in lbs: 10\n",
            "\n",
            "Please input the following information for Oranges:\n",
            "\n",
            "Supplier quote per lbs: 10\n",
            "\n",
            "Supplier inventory in lbs: 10\n",
            "\n",
            "Supply of grown Orangesin lbs: 10\n",
            "\n",
            "Carry over leftovers in lbs: 10\n",
            "\n",
            "Allowable leftovers in lbs: 10\n",
            "\n",
            "Please input the following information for Potatoes:\n",
            "\n",
            "Supplier quote per lbs: 10\n",
            "\n",
            "Supplier inventory in lbs: 10\n",
            "\n",
            "Supply of grown Potatoesin lbs: 10\n",
            "\n",
            "Carry over leftovers in lbs: 10\n",
            "\n",
            "Allowable leftovers in lbs: 10\n",
            "\n"
          ]
        }
      ]
    },
    {
      "cell_type": "markdown",
      "source": [
        "## **Formulating the Problem**"
      ],
      "metadata": {
        "id": "wpTZUX6SBknk"
      }
    },
    {
      "cell_type": "code",
      "source": [
        "# Initializing model\n",
        "\n",
        "model = LpProblem('Order_Optimization', LpMinimize)"
      ],
      "metadata": {
        "id": "dkPMI9sjB7Fz"
      },
      "execution_count": 55,
      "outputs": []
    },
    {
      "cell_type": "markdown",
      "source": [
        "Setting Decision Variables "
      ],
      "metadata": {
        "id": "n-buPegZB0E-"
      }
    },
    {
      "cell_type": "code",
      "source": [
        "# Amount to order from supplier \n",
        "\n",
        "X = LpVariable.dicts('Order', products, lowBound = 0, cat = 'Continuous')\n",
        "\n",
        "#  Sales \n",
        "\n",
        "S = LpVariable.dicts('Sales', products, lowBound =0, cat='Continuous')"
      ],
      "metadata": {
        "id": "7z_eLjaWByUx"
      },
      "execution_count": 56,
      "outputs": []
    },
    {
      "cell_type": "code",
      "source": [
        "X"
      ],
      "metadata": {
        "colab": {
          "base_uri": "https://localhost:8080/"
        },
        "id": "q9Rq_FrLObCZ",
        "outputId": "098cec69-5306-4048-9dba-3d9246794a1f"
      },
      "execution_count": 53,
      "outputs": [
        {
          "output_type": "execute_result",
          "data": {
            "text/plain": [
              "{'Apples': Order_Apples, 'Oranges': Order_Oranges, 'Potatoes': Order_Potatoes}"
            ]
          },
          "metadata": {},
          "execution_count": 53
        }
      ]
    },
    {
      "cell_type": "markdown",
      "source": [
        "Setting Objective Function"
      ],
      "metadata": {
        "id": "tHcPsL90DRwS"
      }
    },
    {
      "cell_type": "code",
      "source": [
        "model += sum([X[product]*C[product] for product in products])"
      ],
      "metadata": {
        "id": "T3ipeERe_lIU"
      },
      "execution_count": 57,
      "outputs": []
    },
    {
      "cell_type": "markdown",
      "source": [
        "Setting Constraints"
      ],
      "metadata": {
        "id": "QhaFy5xYE_LM"
      }
    },
    {
      "cell_type": "code",
      "source": [
        "# Demand Constraints\n",
        "\n",
        "for product in products:\n",
        "  model += X[product] + G[product] + CL[product] >= D[product] # demand constraints\n",
        "  model += -X[product] >= -I[product] # supplier constraints\n",
        "  model += -S[product] >= -D[product] # sales constraints\n",
        "  model += -(X[product] + G[product] + CL[product] - S[product]) >= -L[product] # leftover constraints"
      ],
      "metadata": {
        "id": "44Mm9Li4DkNH"
      },
      "execution_count": 58,
      "outputs": []
    },
    {
      "cell_type": "code",
      "source": [
        "print(model)"
      ],
      "metadata": {
        "colab": {
          "base_uri": "https://localhost:8080/"
        },
        "id": "VFJ7cg1ENTPE",
        "outputId": "56ad35d4-53b9-4fc4-fc63-d3523134ec4a"
      },
      "execution_count": 59,
      "outputs": [
        {
          "output_type": "stream",
          "name": "stdout",
          "text": [
            "Order_Optimization:\n",
            "MINIMIZE\n",
            "10.0*Order_Apples + 10.0*Order_Oranges + 10.0*Order_Potatoes + 0.0\n",
            "SUBJECT TO\n",
            "_C1: Order_Apples >= -10\n",
            "\n",
            "_C2: - Order_Apples >= -10\n",
            "\n",
            "_C3: - Sales_Apples >= -10\n",
            "\n",
            "_C4: - Order_Apples + Sales_Apples >= 10\n",
            "\n",
            "_C5: Order_Oranges >= -10\n",
            "\n",
            "_C6: - Order_Oranges >= -10\n",
            "\n",
            "_C7: - Sales_Oranges >= -10\n",
            "\n",
            "_C8: - Order_Oranges + Sales_Oranges >= 10\n",
            "\n",
            "_C9: Order_Potatoes >= -10\n",
            "\n",
            "_C10: - Order_Potatoes >= -10\n",
            "\n",
            "_C11: - Sales_Potatoes >= -10\n",
            "\n",
            "_C12: - Order_Potatoes + Sales_Potatoes >= 10\n",
            "\n",
            "VARIABLES\n",
            "Order_Apples Continuous\n",
            "Order_Oranges Continuous\n",
            "Order_Potatoes Continuous\n",
            "Sales_Apples Continuous\n",
            "Sales_Oranges Continuous\n",
            "Sales_Potatoes Continuous\n",
            "\n"
          ]
        }
      ]
    },
    {
      "cell_type": "markdown",
      "source": [
        "## **Solving LP**"
      ],
      "metadata": {
        "id": "OUSoRta8Gkhv"
      }
    },
    {
      "cell_type": "code",
      "source": [
        "result = model.solve()"
      ],
      "metadata": {
        "id": "KQizvN-FDptC"
      },
      "execution_count": null,
      "outputs": []
    },
    {
      "cell_type": "markdown",
      "source": [
        "Printing Results\n",
        "\n"
      ],
      "metadata": {
        "id": "aoVnEHK6Ouew"
      }
    },
    {
      "cell_type": "code",
      "source": [
        "print('Optimial Values:')\n",
        "print('')\n",
        "for var in model.variables():\n",
        "  print(var.name, '==>', var.varValue)\n",
        "\n",
        "print('')\n",
        "print('Expected Total cost: $',pulp.value(model.objective))"
      ],
      "metadata": {
        "id": "W56MG6dtPC7I"
      },
      "execution_count": null,
      "outputs": []
    }
  ]
}