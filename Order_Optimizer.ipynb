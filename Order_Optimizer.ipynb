{
  "nbformat": 4,
  "nbformat_minor": 0,
  "metadata": {
    "colab": {
      "name": "Order_Optimizer.ipynb",
      "provenance": [],
      "collapsed_sections": [],
      "authorship_tag": "ABX9TyN8OI2sAazgw8m0fVBnCXwq",
      "include_colab_link": true
    },
    "kernelspec": {
      "name": "python3",
      "display_name": "Python 3"
    },
    "language_info": {
      "name": "python"
    }
  },
  "cells": [
    {
      "cell_type": "markdown",
      "metadata": {
        "id": "view-in-github",
        "colab_type": "text"
      },
      "source": [
        "<a href=\"https://colab.research.google.com/github/alyagabsi/inventory-prediction/blob/main/Order_Optimizer.ipynb\" target=\"_parent\"><img src=\"https://colab.research.google.com/assets/colab-badge.svg\" alt=\"Open In Colab\"/></a>"
      ]
    },
    {
      "cell_type": "markdown",
      "source": [
        "# **Ordering Optimization Problem**\n",
        "_______________\n",
        "\n",
        "Please see the formulation of the problem [here](https://drive.google.com/file/d/1XMsGGo5HXC9JMXMm8wkVrzbxwz5PSyob/view?usp=sharing)."
      ],
      "metadata": {
        "id": "dH9D4RQi5qJl"
      }
    },
    {
      "cell_type": "markdown",
      "source": [
        "## **Setting Dependencies**"
      ],
      "metadata": {
        "id": "mt4CC7y3BpG1"
      }
    },
    {
      "cell_type": "code",
      "execution_count": 1,
      "metadata": {
        "id": "W8yyRZNY5G8r",
        "colab": {
          "base_uri": "https://localhost:8080/"
        },
        "outputId": "7a37da3c-ff9e-48ee-e4e8-cfa354fbba78"
      },
      "outputs": [
        {
          "output_type": "stream",
          "name": "stdout",
          "text": [
            "Looking in indexes: https://pypi.org/simple, https://us-python.pkg.dev/colab-wheels/public/simple/\n",
            "Collecting pulp\n",
            "  Downloading PuLP-2.6.0-py3-none-any.whl (14.2 MB)\n",
            "\u001b[K     |████████████████████████████████| 14.2 MB 19.8 MB/s \n",
            "\u001b[?25hInstalling collected packages: pulp\n",
            "Successfully installed pulp-2.6.0\n"
          ]
        }
      ],
      "source": [
        "# Importing packages \n",
        "\n",
        "!pip install pulp\n",
        "import pandas as pd \n",
        "import numpy as np\n",
        "from pulp import * "
      ]
    },
    {
      "cell_type": "code",
      "source": [
        "# data \n",
        "\n",
        "products = ['Apples', 'Beans', 'Beets', 'Broccoli', 'Cabbage',\n",
        "            'Carrots', 'Celery', 'Chickpeas', 'Cucumber',\n",
        "            'Eggs', 'Garlic', 'Ginger', 'Lentils',\n",
        "            'Milk', 'Onions', 'Oranges','Potatoes',\n",
        "            'Rice', 'Salad', 'Spinach', 'Sprouts', 'Squash']\n",
        "\n",
        "units = ['lbs', 'kg', 'lbs','unit', 'lbs', 'lbs', 'unit', 'kg',\n",
        "         'unit', 'dozen', 'lbs', 'lbs', 'kg', 'litre',\n",
        "         'lbs', 'unit', 'lbs', 'kg', 'kg', 'unit','kg', 'lbs']\n",
        "\n",
        "units_dict = {}\n",
        "\n",
        "for i in range(len(products)):\n",
        "  units_dict[products[i]] = units[i] \n"
      ],
      "metadata": {
        "id": "j2QTyb5GzUez"
      },
      "execution_count": 2,
      "outputs": []
    },
    {
      "cell_type": "code",
      "source": [
        "# User input \n",
        "\n",
        "C = {} # quote per unit\n",
        "I = {} # supplier inventory\n",
        "G = {} # produced in garden\n",
        "CL = {} # carry over leftovers\n",
        "L = {} # allowable leftovers\n",
        "\n",
        "for product in products:\n",
        "  print('Please input the following information for ' + product + ':')\n",
        "  print('')\n",
        "  C[product] = float(input('Supplier quote per ' + units[product]+': '))\n",
        "  print('')\n",
        "  I[product] = float(input('Supplier inventory in ' + units[product]+ ': '))\n",
        "  print('')\n",
        "  G[product] = float(input('Supply of grown ' + product + ' in ' + units[product]+ ': '))\n",
        "  print('')\n",
        "  CL[product] = float(input('Carry over leftovers in '+ units[product] + ': '))\n",
        "  print('')\n",
        "  L[product] = float(input('Allowable leftovers in '+ units[product] + ': '))\n",
        "  print('')\n",
        "\n",
        "# Demand (given by forecasting models) - TBDone\n",
        "\n",
        "D = {}\n",
        "\n",
        "for product in products:\n",
        "  D[product] = forecast[i] # -> forecast list to be implemented \n",
        "\n",
        "# Budget \n",
        "\n",
        "B = float(input('Please input budget:'))"
      ],
      "metadata": {
        "id": "tbMXBxUO57H0"
      },
      "execution_count": null,
      "outputs": []
    },
    {
      "cell_type": "markdown",
      "source": [
        "## **Formulating the Problem**"
      ],
      "metadata": {
        "id": "wpTZUX6SBknk"
      }
    },
    {
      "cell_type": "code",
      "source": [
        "# Initializing model\n",
        "\n",
        "model = LpProblem('Order_Optimization', LpMinimize)"
      ],
      "metadata": {
        "id": "dkPMI9sjB7Fz"
      },
      "execution_count": 3,
      "outputs": []
    },
    {
      "cell_type": "markdown",
      "source": [
        "Setting Decision Variables "
      ],
      "metadata": {
        "id": "n-buPegZB0E-"
      }
    },
    {
      "cell_type": "code",
      "source": [
        "# Amount to order from supplier \n",
        "\n",
        "X = LpVariable.dicts('Order', products, lowBound = 0, cat = 'Continuous')\n",
        "\n",
        "#  Sales \n",
        "\n",
        "S = LpVariable.dicts('Sales', products, lowBound =0, cat='Continuous')"
      ],
      "metadata": {
        "id": "7z_eLjaWByUx"
      },
      "execution_count": 4,
      "outputs": []
    },
    {
      "cell_type": "markdown",
      "source": [
        "Setting Objective Function"
      ],
      "metadata": {
        "id": "tHcPsL90DRwS"
      }
    },
    {
      "cell_type": "code",
      "source": [
        "model += sum([X[product]*C[product] for product in products])"
      ],
      "metadata": {
        "id": "T3ipeERe_lIU",
        "colab": {
          "base_uri": "https://localhost:8080/",
          "height": 226
        },
        "outputId": "641e30b5-f5e0-4208-87d7-c38f677e53d5"
      },
      "execution_count": 5,
      "outputs": [
        {
          "output_type": "error",
          "ename": "NameError",
          "evalue": "ignored",
          "traceback": [
            "\u001b[0;31m---------------------------------------------------------------------------\u001b[0m",
            "\u001b[0;31mNameError\u001b[0m                                 Traceback (most recent call last)",
            "\u001b[0;32m<ipython-input-5-8e9c61e155dc>\u001b[0m in \u001b[0;36m<module>\u001b[0;34m()\u001b[0m\n\u001b[0;32m----> 1\u001b[0;31m \u001b[0mmodel\u001b[0m \u001b[0;34m+=\u001b[0m \u001b[0msum\u001b[0m\u001b[0;34m(\u001b[0m\u001b[0;34m[\u001b[0m\u001b[0mX\u001b[0m\u001b[0;34m[\u001b[0m\u001b[0mproduct\u001b[0m\u001b[0;34m]\u001b[0m\u001b[0;34m*\u001b[0m\u001b[0mC\u001b[0m\u001b[0;34m[\u001b[0m\u001b[0mproduct\u001b[0m\u001b[0;34m]\u001b[0m \u001b[0;32mfor\u001b[0m \u001b[0mproduct\u001b[0m \u001b[0;32min\u001b[0m \u001b[0mproducts\u001b[0m\u001b[0;34m]\u001b[0m\u001b[0;34m)\u001b[0m\u001b[0;34m\u001b[0m\u001b[0;34m\u001b[0m\u001b[0m\n\u001b[0m",
            "\u001b[0;32m<ipython-input-5-8e9c61e155dc>\u001b[0m in \u001b[0;36m<listcomp>\u001b[0;34m(.0)\u001b[0m\n\u001b[0;32m----> 1\u001b[0;31m \u001b[0mmodel\u001b[0m \u001b[0;34m+=\u001b[0m \u001b[0msum\u001b[0m\u001b[0;34m(\u001b[0m\u001b[0;34m[\u001b[0m\u001b[0mX\u001b[0m\u001b[0;34m[\u001b[0m\u001b[0mproduct\u001b[0m\u001b[0;34m]\u001b[0m\u001b[0;34m*\u001b[0m\u001b[0mC\u001b[0m\u001b[0;34m[\u001b[0m\u001b[0mproduct\u001b[0m\u001b[0;34m]\u001b[0m \u001b[0;32mfor\u001b[0m \u001b[0mproduct\u001b[0m \u001b[0;32min\u001b[0m \u001b[0mproducts\u001b[0m\u001b[0;34m]\u001b[0m\u001b[0;34m)\u001b[0m\u001b[0;34m\u001b[0m\u001b[0;34m\u001b[0m\u001b[0m\n\u001b[0m",
            "\u001b[0;31mNameError\u001b[0m: name 'C' is not defined"
          ]
        }
      ]
    },
    {
      "cell_type": "markdown",
      "source": [
        "Setting Constraints"
      ],
      "metadata": {
        "id": "QhaFy5xYE_LM"
      }
    },
    {
      "cell_type": "markdown",
      "source": [
        "*Might need to impose a new variable to not satisfy the demand fully*"
      ],
      "metadata": {
        "id": "sNuSnxvx3icN"
      }
    },
    {
      "cell_type": "code",
      "source": [
        "for product in products:\n",
        "  model += X[product] + G[product] + CL[product] >= D[product] # Demand constraints\n",
        "  model += -X[product] >= -I[product] # Dupplier constraints\n",
        "  model += -S[product] >= -D[product] # Sales constraints\n",
        "  model += -(X[product] + G[product] + CL[product] - S[product]) >= -L[product] # Leftover constraints"
      ],
      "metadata": {
        "id": "44Mm9Li4DkNH"
      },
      "execution_count": null,
      "outputs": []
    },
    {
      "cell_type": "code",
      "source": [
        "# budget constraints \n",
        "\n",
        "model += sum([X[product]*C[product] for product in products]) <= B"
      ],
      "metadata": {
        "id": "cAqH3-84121E"
      },
      "execution_count": null,
      "outputs": []
    },
    {
      "cell_type": "code",
      "source": [
        "print(model)"
      ],
      "metadata": {
        "colab": {
          "base_uri": "https://localhost:8080/"
        },
        "id": "VFJ7cg1ENTPE",
        "outputId": "56ad35d4-53b9-4fc4-fc63-d3523134ec4a"
      },
      "execution_count": null,
      "outputs": [
        {
          "output_type": "stream",
          "name": "stdout",
          "text": [
            "Order_Optimization:\n",
            "MINIMIZE\n",
            "10.0*Order_Apples + 10.0*Order_Oranges + 10.0*Order_Potatoes + 0.0\n",
            "SUBJECT TO\n",
            "_C1: Order_Apples >= -10\n",
            "\n",
            "_C2: - Order_Apples >= -10\n",
            "\n",
            "_C3: - Sales_Apples >= -10\n",
            "\n",
            "_C4: - Order_Apples + Sales_Apples >= 10\n",
            "\n",
            "_C5: Order_Oranges >= -10\n",
            "\n",
            "_C6: - Order_Oranges >= -10\n",
            "\n",
            "_C7: - Sales_Oranges >= -10\n",
            "\n",
            "_C8: - Order_Oranges + Sales_Oranges >= 10\n",
            "\n",
            "_C9: Order_Potatoes >= -10\n",
            "\n",
            "_C10: - Order_Potatoes >= -10\n",
            "\n",
            "_C11: - Sales_Potatoes >= -10\n",
            "\n",
            "_C12: - Order_Potatoes + Sales_Potatoes >= 10\n",
            "\n",
            "VARIABLES\n",
            "Order_Apples Continuous\n",
            "Order_Oranges Continuous\n",
            "Order_Potatoes Continuous\n",
            "Sales_Apples Continuous\n",
            "Sales_Oranges Continuous\n",
            "Sales_Potatoes Continuous\n",
            "\n"
          ]
        }
      ]
    },
    {
      "cell_type": "markdown",
      "source": [
        "## **Solving LP**"
      ],
      "metadata": {
        "id": "OUSoRta8Gkhv"
      }
    },
    {
      "cell_type": "code",
      "source": [
        "result = model.solve()"
      ],
      "metadata": {
        "id": "KQizvN-FDptC"
      },
      "execution_count": null,
      "outputs": []
    },
    {
      "cell_type": "markdown",
      "source": [
        "Printing Results\n",
        "\n"
      ],
      "metadata": {
        "id": "aoVnEHK6Ouew"
      }
    },
    {
      "cell_type": "code",
      "source": [
        "print('Optimial Values:')\n",
        "print('')\n",
        "for var in model.variables():\n",
        "  print(var.name, '==>', var.varValue)\n",
        "\n",
        "print('')\n",
        "print('Expected Total cost: $',pulp.value(model.objective))"
      ],
      "metadata": {
        "id": "W56MG6dtPC7I"
      },
      "execution_count": null,
      "outputs": []
    }
  ]
}